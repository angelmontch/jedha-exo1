{
 "cells": [
  {
   "cell_type": "code",
   "execution_count": 25,
   "metadata": {
    "ExecuteTime": {
     "end_time": "2019-07-15T17:58:50.480233Z",
     "start_time": "2019-07-15T17:58:50.477294Z"
    }
   },
   "outputs": [],
   "source": [
    "import requests\n",
    "from bs4 import BeautifulSoup\n",
    "import json\n",
    "import pandas as pd"
   ]
  },
  {
   "cell_type": "markdown",
   "metadata": {},
   "source": [
    "# Scraping"
   ]
  },
  {
   "cell_type": "code",
   "execution_count": null,
   "metadata": {},
   "outputs": [],
   "source": [
    "raw_html = requests.get(\"https://www.listchallenges.com/completely-random-movie-list\").text\n",
    "\n",
    "html = BeautifulSoup(raw_html)\n",
    "\n",
    "movies = [ \n",
    "    movie.get_text(strip=True).split(' (')[0] \n",
    "    for movie in html.select('div.item-name') \n",
    "]"
   ]
  },
  {
   "cell_type": "code",
   "execution_count": null,
   "metadata": {},
   "outputs": [],
   "source": [
    "movies_metadata = [\n",
    "    json.loads(requests.get('http://www.omdbapi.com/?t={}&apikey=f6adbb42'.format(movie)).text)\n",
    "    for movie in movies\n",
    "]"
   ]
  },
  {
   "cell_type": "code",
   "execution_count": null,
   "metadata": {},
   "outputs": [],
   "source": [
    "df = pd.DataFrame(movies_metadata)"
   ]
  },
  {
   "cell_type": "markdown",
   "metadata": {},
   "source": [
    "# Test de l'API"
   ]
  },
  {
   "cell_type": "code",
   "execution_count": 114,
   "metadata": {
    "ExecuteTime": {
     "end_time": "2019-07-15T19:03:49.955487Z",
     "start_time": "2019-07-15T19:03:48.503714Z"
    }
   },
   "outputs": [],
   "source": [
    "data = {\n",
    "    'movies': json.dumps(movies)\n",
    "}\n",
    "\n",
    "df = pd.DataFrame(requests.post(\"http://0.0.0.0:5000/get_movie_metadata\", data).json())\n",
    "\n",
    "json_data = requests.post(\"http://0.0.0.0:5000/get_movie_metadata\", data).json()"
   ]
  },
  {
   "cell_type": "code",
   "execution_count": 125,
   "metadata": {
    "ExecuteTime": {
     "end_time": "2019-07-15T19:12:40.117027Z",
     "start_time": "2019-07-15T19:12:39.839776Z"
    }
   },
   "outputs": [
    {
     "data": {
      "text/plain": [
       "'SUCCESS'"
      ]
     },
     "execution_count": 125,
     "metadata": {},
     "output_type": "execute_result"
    }
   ],
   "source": [
    "data = {\n",
    "    'model_name': 'model_test',\n",
    "    'data': json.dumps(json_data)\n",
    "}\n",
    "\n",
    "requests.post(\"http://0.0.0.0:5000/train_model\", data).text"
   ]
  },
  {
   "cell_type": "code",
   "execution_count": 124,
   "metadata": {
    "ExecuteTime": {
     "end_time": "2019-07-15T19:09:39.310404Z",
     "start_time": "2019-07-15T19:09:39.299502Z"
    }
   },
   "outputs": [
    {
     "data": {
      "text/plain": [
       "[7.313236881920363,\n",
       " 6.31458139695239,\n",
       " 6.200000000000001,\n",
       " 8.005072099261923,\n",
       " 7.423194375087286,\n",
       " 6.634326805640287,\n",
       " 7.286896081721812,\n",
       " 8.21293665956683,\n",
       " 7.479037470347755,\n",
       " 6.689202661985279,\n",
       " 7.594927900738078,\n",
       " 6.885418603047615,\n",
       " 7.619992997371452,\n",
       " 7.2362449458056055,\n",
       " 7.181351419668872,\n",
       " 6.843259977948908,\n",
       " 6.842565767237795,\n",
       " 7.08165900297722,\n",
       " 7.114658528651754,\n",
       " 8.100000000000001,\n",
       " 6.810797338014724,\n",
       " 7.963568742992351,\n",
       " 8.467070343061716]"
      ]
     },
     "execution_count": 124,
     "metadata": {},
     "output_type": "execute_result"
    }
   ],
   "source": [
    "data = {\n",
    "    'model_name': 'model_test',\n",
    "    'data': json.dumps(X.to_dict())\n",
    "}\n",
    "\n",
    "requests.post(\"http://0.0.0.0:5000/predict\", data).json()"
   ]
  },
  {
   "cell_type": "code",
   "execution_count": null,
   "metadata": {},
   "outputs": [],
   "source": []
  }
 ],
 "metadata": {
  "kernelspec": {
   "display_name": "Python 3",
   "language": "python",
   "name": "python3"
  },
  "language_info": {
   "codemirror_mode": {
    "name": "ipython",
    "version": 3
   },
   "file_extension": ".py",
   "mimetype": "text/x-python",
   "name": "python",
   "nbconvert_exporter": "python",
   "pygments_lexer": "ipython3",
   "version": "3.7.3"
  }
 },
 "nbformat": 4,
 "nbformat_minor": 2
}
